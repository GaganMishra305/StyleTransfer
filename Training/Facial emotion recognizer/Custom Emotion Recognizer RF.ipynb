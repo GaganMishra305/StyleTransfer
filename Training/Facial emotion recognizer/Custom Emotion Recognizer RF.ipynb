{
 "cells": [
  {
   "cell_type": "markdown",
   "metadata": {},
   "source": [
    "# Cosntructing an RF model for emotion recognition"
   ]
  },
  {
   "cell_type": "code",
   "execution_count": null,
   "metadata": {},
   "outputs": [],
   "source": []
  },
  {
   "cell_type": "markdown",
   "metadata": {},
   "source": [
    "### 1. Training(tougher part was getting the data)"
   ]
  },
  {
   "cell_type": "code",
   "execution_count": 14,
   "metadata": {},
   "outputs": [],
   "source": [
    "import pickle\n",
    "\n",
    "import numpy as np\n",
    "from sklearn.model_selection import train_test_split\n",
    "from sklearn.ensemble import RandomForestClassifier\n",
    "from sklearn.metrics import accuracy_score, confusion_matrix, classification_report"
   ]
  },
  {
   "cell_type": "code",
   "execution_count": 15,
   "metadata": {},
   "outputs": [],
   "source": [
    "data_file = \"../../Data/Synthetic-FER-dataset/data.txt\"\n",
    "data = np.loadtxt(data_file)"
   ]
  },
  {
   "cell_type": "code",
   "execution_count": 16,
   "metadata": {},
   "outputs": [],
   "source": [
    "X = data[:, :-1]  # Features are all columns except the last one\n",
    "y = data[:, -1]   # Labels are the last column"
   ]
  },
  {
   "cell_type": "code",
   "execution_count": 17,
   "metadata": {},
   "outputs": [],
   "source": [
    "X_train, X_test, y_train, y_test = train_test_split(X, y, test_size=0.2, random_state=42, shuffle=True, stratify=y)"
   ]
  },
  {
   "cell_type": "code",
   "execution_count": 18,
   "metadata": {},
   "outputs": [],
   "source": [
    "rf_classifier = RandomForestClassifier()"
   ]
  },
  {
   "cell_type": "code",
   "execution_count": 19,
   "metadata": {},
   "outputs": [
    {
     "data": {
      "text/plain": [
       "RandomForestClassifier()"
      ]
     },
     "execution_count": 19,
     "metadata": {},
     "output_type": "execute_result"
    }
   ],
   "source": [
    "rf_classifier.fit(X_train, y_train)"
   ]
  },
  {
   "cell_type": "code",
   "execution_count": 20,
   "metadata": {},
   "outputs": [],
   "source": [
    "y_pred = rf_classifier.predict(X_test)"
   ]
  },
  {
   "cell_type": "code",
   "execution_count": 21,
   "metadata": {},
   "outputs": [
    {
     "name": "stdout",
     "output_type": "stream",
     "text": [
      "Accuracy: 71.92%\n"
     ]
    }
   ],
   "source": [
    "accuracy = accuracy_score(y_test, y_pred)\n",
    "print(f\"Accuracy: {accuracy * 100:.2f}%\")"
   ]
  },
  {
   "cell_type": "code",
   "execution_count": 22,
   "metadata": {},
   "outputs": [
    {
     "data": {
      "text/plain": [
       "<Axes: >"
      ]
     },
     "execution_count": 22,
     "metadata": {},
     "output_type": "execute_result"
    },
    {
     "data": {
      "image/png": "[encoded data removed]",
      "text/plain": [
       "<Figure size 640x480 with 2 Axes>"
      ]
     },
     "metadata": {},
     "output_type": "display_data"
    }
   ],
   "source": [
    "import seaborn as sns\n",
    "\n",
    "cm = confusion_matrix(y_test, y_pred)\n",
    "sns.heatmap(cm, annot=True, cmap='Blues', fmt='g')"
   ]
  },
  {
   "cell_type": "code",
   "execution_count": 23,
   "metadata": {},
   "outputs": [
    {
     "name": "stdout",
     "output_type": "stream",
     "text": [
      "              precision    recall  f1-score   support\n",
      "\n",
      "         0.0       0.82      0.82      0.82        50\n",
      "         1.0       0.64      0.79      0.71        48\n",
      "         2.0       0.70      0.54      0.61        48\n",
      "\n",
      "    accuracy                           0.72       146\n",
      "   macro avg       0.72      0.72      0.71       146\n",
      "weighted avg       0.72      0.72      0.72       146\n",
      "\n"
     ]
    }
   ],
   "source": [
    "# classification report\n",
    "\n",
    "report = classification_report(y_test, y_pred)\n",
    "print(report)"
   ]
  },
  {
   "cell_type": "code",
   "execution_count": 25,
   "metadata": {},
   "outputs": [],
   "source": [
    "# saving the model\n",
    "with open('../../Models/FER models/RFmodels/model_v1.p', 'wb') as f:\n",
    "    pickle.dump(rf_classifier, f)"
   ]
  },
  {
   "cell_type": "code",
   "execution_count": null,
   "metadata": {},
   "outputs": [],
   "source": []
  },
  {
   "cell_type": "markdown",
   "metadata": {},
   "source": [
    "### 2. Testing"
   ]
  },
  {
   "cell_type": "code",
   "execution_count": 28,
   "metadata": {},
   "outputs": [],
   "source": [
    "import pickle\n",
    "import cv2\n",
    "import mediapipe as mp\n"
   ]
  },
  {
   "cell_type": "code",
   "execution_count": 29,
   "metadata": {},
   "outputs": [],
   "source": [
    "\n",
    "\n",
    "\n",
    "def get_face_landmarks(image, draw=False, static_image_mode=True):\n",
    "\n",
    "    # Read the input image\n",
    "    image_input_rgb = cv2.cvtColor(image, cv2.COLOR_BGR2RGB)\n",
    "\n",
    "    face_mesh = mp.solutions.face_mesh.FaceMesh(static_image_mode=static_image_mode,\n",
    "                                                max_num_faces=1,\n",
    "                                                min_detection_confidence=0.5)\n",
    "    image_rows, image_cols, _ = image.shape\n",
    "    results = face_mesh.process(image_input_rgb)\n",
    "\n",
    "    image_landmarks = []\n",
    "\n",
    "    if results.multi_face_landmarks:\n",
    "\n",
    "        if draw:\n",
    "\n",
    "            mp_drawing = mp.solutions.drawing_utils\n",
    "            mp_drawing_styles = mp.solutions.drawing_styles\n",
    "            drawing_spec = mp_drawing.DrawingSpec(thickness=2, circle_radius=1)\n",
    "\n",
    "            mp_drawing.draw_landmarks(\n",
    "                image=image,\n",
    "                landmark_list=results.multi_face_landmarks[0],\n",
    "                connections=mp.solutions.face_mesh.FACEMESH_CONTOURS,\n",
    "                landmark_drawing_spec=drawing_spec,\n",
    "                connection_drawing_spec=drawing_spec)\n",
    "\n",
    "        ls_single_face = results.multi_face_landmarks[0].landmark\n",
    "        xs_ = []\n",
    "        ys_ = []\n",
    "        zs_ = []\n",
    "        for idx in ls_single_face:\n",
    "            xs_.append(idx.x)\n",
    "            ys_.append(idx.y)\n",
    "            zs_.append(idx.z)\n",
    "        for j in range(len(xs_)):\n",
    "            image_landmarks.append(xs_[j] - min(xs_))\n",
    "            image_landmarks.append(ys_[j] - min(ys_))\n",
    "            image_landmarks.append(zs_[j] - min(zs_))\n",
    "\n",
    "    return image_landmarks"
   ]
  },
  {
   "cell_type": "code",
   "execution_count": 31,
   "metadata": {},
   "outputs": [],
   "source": [
    "emotions = ['HAPPY', 'SAD', 'SURPRISED']\n",
    "\n",
    "with open('../../Models/FER models/RFmodels/model_v1.p', 'rb') as f:\n",
    "    model = pickle.load(f)"
   ]
  },
  {
   "cell_type": "code",
   "execution_count": 33,
   "metadata": {},
   "outputs": [
    {
     "ename": "KeyboardInterrupt",
     "evalue": "",
     "output_type": "error",
     "traceback": [
      "\u001b[1;31m---------------------------------------------------------------------------\u001b[0m",
      "\u001b[1;31mKeyboardInterrupt\u001b[0m                         Traceback (most recent call last)",
      "Cell \u001b[1;32mIn[33], line 7\u001b[0m\n\u001b[0;32m      4\u001b[0m \u001b[38;5;28;01mwhile\u001b[39;00m ret:\n\u001b[0;32m      5\u001b[0m     ret, frame \u001b[38;5;241m=\u001b[39m cap\u001b[38;5;241m.\u001b[39mread()\n\u001b[1;32m----> 7\u001b[0m     face_landmarks \u001b[38;5;241m=\u001b[39m \u001b[43mget_face_landmarks\u001b[49m\u001b[43m(\u001b[49m\u001b[43mframe\u001b[49m\u001b[43m,\u001b[49m\u001b[43m \u001b[49m\u001b[43mdraw\u001b[49m\u001b[38;5;241;43m=\u001b[39;49m\u001b[38;5;28;43;01mTrue\u001b[39;49;00m\u001b[43m,\u001b[49m\u001b[43m \u001b[49m\u001b[43mstatic_image_mode\u001b[49m\u001b[38;5;241;43m=\u001b[39;49m\u001b[38;5;28;43;01mFalse\u001b[39;49;00m\u001b[43m)\u001b[49m\n\u001b[0;32m      9\u001b[0m     output \u001b[38;5;241m=\u001b[39m model\u001b[38;5;241m.\u001b[39mpredict([face_landmarks])\n\u001b[0;32m     11\u001b[0m     cv2\u001b[38;5;241m.\u001b[39mputText(frame, emotions[\u001b[38;5;28mint\u001b[39m(output[\u001b[38;5;241m0\u001b[39m])],(\u001b[38;5;241m10\u001b[39m, frame\u001b[38;5;241m.\u001b[39mshape[\u001b[38;5;241m0\u001b[39m] \u001b[38;5;241m-\u001b[39m \u001b[38;5;241m1\u001b[39m),cv2\u001b[38;5;241m.\u001b[39mFONT_HERSHEY_SIMPLEX,\u001b[38;5;241m3\u001b[39m,(\u001b[38;5;241m0\u001b[39m, \u001b[38;5;241m255\u001b[39m, \u001b[38;5;241m0\u001b[39m),\u001b[38;5;241m5\u001b[39m)\n",
      "Cell \u001b[1;32mIn[29], line 22\u001b[0m, in \u001b[0;36mget_face_landmarks\u001b[1;34m(image, draw, static_image_mode)\u001b[0m\n\u001b[0;32m     19\u001b[0m     mp_drawing_styles \u001b[38;5;241m=\u001b[39m mp\u001b[38;5;241m.\u001b[39msolutions\u001b[38;5;241m.\u001b[39mdrawing_styles\n\u001b[0;32m     20\u001b[0m     drawing_spec \u001b[38;5;241m=\u001b[39m mp_drawing\u001b[38;5;241m.\u001b[39mDrawingSpec(thickness\u001b[38;5;241m=\u001b[39m\u001b[38;5;241m2\u001b[39m, circle_radius\u001b[38;5;241m=\u001b[39m\u001b[38;5;241m1\u001b[39m)\n\u001b[1;32m---> 22\u001b[0m     \u001b[43mmp_drawing\u001b[49m\u001b[38;5;241;43m.\u001b[39;49m\u001b[43mdraw_landmarks\u001b[49m\u001b[43m(\u001b[49m\n\u001b[0;32m     23\u001b[0m \u001b[43m        \u001b[49m\u001b[43mimage\u001b[49m\u001b[38;5;241;43m=\u001b[39;49m\u001b[43mimage\u001b[49m\u001b[43m,\u001b[49m\n\u001b[0;32m     24\u001b[0m \u001b[43m        \u001b[49m\u001b[43mlandmark_list\u001b[49m\u001b[38;5;241;43m=\u001b[39;49m\u001b[43mresults\u001b[49m\u001b[38;5;241;43m.\u001b[39;49m\u001b[43mmulti_face_landmarks\u001b[49m\u001b[43m[\u001b[49m\u001b[38;5;241;43m0\u001b[39;49m\u001b[43m]\u001b[49m\u001b[43m,\u001b[49m\n\u001b[0;32m     25\u001b[0m \u001b[43m        \u001b[49m\u001b[43mconnections\u001b[49m\u001b[38;5;241;43m=\u001b[39;49m\u001b[43mmp\u001b[49m\u001b[38;5;241;43m.\u001b[39;49m\u001b[43msolutions\u001b[49m\u001b[38;5;241;43m.\u001b[39;49m\u001b[43mface_mesh\u001b[49m\u001b[38;5;241;43m.\u001b[39;49m\u001b[43mFACEMESH_CONTOURS\u001b[49m\u001b[43m,\u001b[49m\n\u001b[0;32m     26\u001b[0m \u001b[43m        \u001b[49m\u001b[43mlandmark_drawing_spec\u001b[49m\u001b[38;5;241;43m=\u001b[39;49m\u001b[43mdrawing_spec\u001b[49m\u001b[43m,\u001b[49m\n\u001b[0;32m     27\u001b[0m \u001b[43m        \u001b[49m\u001b[43mconnection_drawing_spec\u001b[49m\u001b[38;5;241;43m=\u001b[39;49m\u001b[43mdrawing_spec\u001b[49m\u001b[43m)\u001b[49m\n\u001b[0;32m     29\u001b[0m ls_single_face \u001b[38;5;241m=\u001b[39m results\u001b[38;5;241m.\u001b[39mmulti_face_landmarks[\u001b[38;5;241m0\u001b[39m]\u001b[38;5;241m.\u001b[39mlandmark\n\u001b[0;32m     30\u001b[0m xs_ \u001b[38;5;241m=\u001b[39m []\n",
      "File \u001b[1;32mc:\\Users\\HP\\AppData\\Local\\Programs\\Python\\Python38\\lib\\site-packages\\mediapipe\\python\\solutions\\drawing_utils.py:191\u001b[0m, in \u001b[0;36mdraw_landmarks\u001b[1;34m(image, landmark_list, connections, landmark_drawing_spec, connection_drawing_spec)\u001b[0m\n\u001b[0;32m    188\u001b[0m \u001b[38;5;66;03m# White circle border\u001b[39;00m\n\u001b[0;32m    189\u001b[0m circle_border_radius \u001b[38;5;241m=\u001b[39m \u001b[38;5;28mmax\u001b[39m(drawing_spec\u001b[38;5;241m.\u001b[39mcircle_radius \u001b[38;5;241m+\u001b[39m \u001b[38;5;241m1\u001b[39m,\n\u001b[0;32m    190\u001b[0m                            \u001b[38;5;28mint\u001b[39m(drawing_spec\u001b[38;5;241m.\u001b[39mcircle_radius \u001b[38;5;241m*\u001b[39m \u001b[38;5;241m1.2\u001b[39m))\n\u001b[1;32m--> 191\u001b[0m \u001b[43mcv2\u001b[49m\u001b[38;5;241;43m.\u001b[39;49m\u001b[43mcircle\u001b[49m\u001b[43m(\u001b[49m\u001b[43mimage\u001b[49m\u001b[43m,\u001b[49m\u001b[43m \u001b[49m\u001b[43mlandmark_px\u001b[49m\u001b[43m,\u001b[49m\u001b[43m \u001b[49m\u001b[43mcircle_border_radius\u001b[49m\u001b[43m,\u001b[49m\u001b[43m \u001b[49m\u001b[43mWHITE_COLOR\u001b[49m\u001b[43m,\u001b[49m\n\u001b[0;32m    192\u001b[0m \u001b[43m           \u001b[49m\u001b[43mdrawing_spec\u001b[49m\u001b[38;5;241;43m.\u001b[39;49m\u001b[43mthickness\u001b[49m\u001b[43m)\u001b[49m\n\u001b[0;32m    193\u001b[0m \u001b[38;5;66;03m# Fill color into the circle\u001b[39;00m\n\u001b[0;32m    194\u001b[0m cv2\u001b[38;5;241m.\u001b[39mcircle(image, landmark_px, drawing_spec\u001b[38;5;241m.\u001b[39mcircle_radius,\n\u001b[0;32m    195\u001b[0m            drawing_spec\u001b[38;5;241m.\u001b[39mcolor, drawing_spec\u001b[38;5;241m.\u001b[39mthickness)\n",
      "\u001b[1;31mKeyboardInterrupt\u001b[0m: "
     ]
    },
    {
     "ename": "",
     "evalue": "",
     "output_type": "error",
     "traceback": [
      "\u001b[1;31mThe Kernel crashed while executing code in the current cell or a previous cell. \n",
      "\u001b[1;31mPlease review the code in the cell(s) to identify a possible cause of the failure. \n",
      "\u001b[1;31mClick <a href='https://aka.ms/vscodeJupyterKernelCrash'>here</a> for more info. \n",
      "\u001b[1;31mView Jupyter <a href='command:jupyter.viewOutput'>log</a> for further details."
     ]
    }
   ],
   "source": [
    "cap = cv2.VideoCapture(0)\n",
    "\n",
    "ret, frame = cap.read()\n",
    "while ret:\n",
    "    ret, frame = cap.read()\n",
    "\n",
    "    face_landmarks = get_face_landmarks(frame, draw=True, static_image_mode=False)\n",
    "\n",
    "    output = model.predict([face_landmarks])\n",
    "\n",
    "    cv2.putText(frame, emotions[int(output[0])],(10, frame.shape[0] - 1),cv2.FONT_HERSHEY_SIMPLEX,3,(0, 255, 0),5)\n",
    "\n",
    "    cv2.imshow('frame', frame)\n",
    "\n",
    "    cv2.waitKey(25)\n",
    "\n",
    "\n",
    "cap.release()\n",
    "cv2.destroyAllWindows()"
   ]
  },
  {
   "cell_type": "code",
   "execution_count": null,
   "metadata": {},
   "outputs": [],
   "source": []
  }
 ],
 "metadata": {
  "kernelspec": {
   "display_name": "Python 3",
   "language": "python",
   "name": "python3"
  },
  "language_info": {
   "codemirror_mode": {
    "name": "ipython",
    "version": 3
   },
   "file_extension": ".py",
   "mimetype": "text/x-python",
   "name": "python",
   "nbconvert_exporter": "python",
   "pygments_lexer": "ipython3",
   "version": "3.8.4"
  }
 },
 "nbformat": 4,
 "nbformat_minor": 2
}
